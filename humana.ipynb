{
 "cells": [
  {
   "cell_type": "code",
   "execution_count": 1,
   "metadata": {},
   "outputs": [],
   "source": [
    "import pandas as pd\n",
    "import numpy as np\n",
    "import matplotlib.pyplot as plt\n",
    "\n",
    "data = pd.read_csv('/Users/michaeltang/Documents/MIDS/Case Competition/Download/2020_Competition_Training.csv', low_memory = False)\n",
    "test_data = pd.read_csv('/Users/michaeltang/Documents/MIDS/Case Competition/Download/2020_Competition_Holdout.csv', low_memory = False)"
   ]
  },
  {
   "cell_type": "code",
   "execution_count": 222,
   "metadata": {},
   "outputs": [
    {
     "data": {
      "text/plain": [
       "9"
      ]
     },
     "execution_count": 222,
     "metadata": {},
     "output_type": "execute_result"
    }
   ],
   "source": [
    "len(data['rucc_category'].unique())"
   ]
  },
  {
   "cell_type": "code",
   "execution_count": 2,
   "metadata": {},
   "outputs": [
    {
     "name": "stdout",
     "output_type": "stream",
     "text": [
      "training data shape:  (69572, 826)\n",
      "testing data shape:  (17681, 825)\n"
     ]
    }
   ],
   "source": [
    "print('training data shape: ', data.shape)\n",
    "print('testing data shape: ', test_data.shape)"
   ]
  },
  {
   "cell_type": "code",
   "execution_count": 3,
   "metadata": {},
   "outputs": [],
   "source": [
    "y_data = data['transportation_issues']\n",
    "data.drop(labels = ['transportation_issues'], axis = 1, inplace = True)"
   ]
  },
  {
   "cell_type": "code",
   "execution_count": 4,
   "metadata": {},
   "outputs": [
    {
     "name": "stdout",
     "output_type": "stream",
     "text": [
      "numbe of total indicators:  825\n",
      "number of binary indicators:  354\n",
      "number of non-binary indicators:  471\n"
     ]
    }
   ],
   "source": [
    "col_names = data.columns.tolist()\n",
    "print('numbe of total indicators: ', len(col_names))\n",
    "\n",
    "ind_col_names = [name for name in col_names if 'ind' in name]\n",
    "print('number of binary indicators: ', len(ind_col_names))\n",
    "\n",
    "non_ind_col_names = [name for name in col_names if name not in ind_col_names]\n",
    "print('number of non-binary indicators: ', len(non_ind_col_names))"
   ]
  },
  {
   "cell_type": "markdown",
   "metadata": {},
   "source": [
    "### group features into different categories, check for missing values and odd values inside each categories for both training and testing set determine how imputation will be performed ###"
   ]
  },
  {
   "cell_type": "code",
   "execution_count": 5,
   "metadata": {},
   "outputs": [],
   "source": [
    "# betos codes\n",
    "betos_col = [name for name in col_names if name.startswith('betos')] # no missing value\n",
    "# behavioral health categories \n",
    "bh_col = [name for name in col_names if name.startswith('bh_')] # no missing values\n",
    "# charlson comorbidity index value\n",
    "cci_col = [name for name in col_names if name.startswith('cci_')] # no missing values\n",
    "# clinical classification software code\n",
    "ccsp_col = [name for name in col_names if name.startswith('ccsp_')] # no missing values\n",
    "# Centers for Medicare and Medicaid Services\n",
    "cms_col = [name for name in col_names if name.startswith('cms_')] # contains missing values ~ 3750, cms_ra_factor_type_cd contains '*' - 7\n",
    "# cms level 2 diagnosis categories\n",
    "cmsd2_col = [name for name in col_names if name.startswith('cmsd2_')] # no missing values\n",
    "# county code (without state part)\n",
    "cnty_col = [name for name in col_names if name.startswith('cnty_cd')] # contains 'other' = 46773\n",
    "# KBM consensus data\n",
    "cons_col = [name for name in col_names if name.startswith('cons_')] # contains missing values ~ 19278, cons_cmys contains '*' - 15\n",
    "# all credit columns\n",
    "credit_ALL_col = [name for name in col_names if name.startswith('credit_')]\n",
    "# credit balance\n",
    "credit_bal_col = [name for name in col_names if name.startswith('credit_bal_')] # contains missing values ~ 230\n",
    "# credit household\n",
    "credit_hh_col = [name for name in col_names if name.startswith('credit_hh_')] # contains missing values ~ 230\n",
    "# high credit for consumer finance accounts \n",
    "credit_highcrd_col = [name for name in col_names if name.startswith('credit_highcrd_')] # contains missing values ~ 230\n",
    "# mortgage account age\n",
    "credit_minmob_col = [name for name in col_names if name.startswith('credit_minmob_')] # contains missing values ~ 230\n",
    "# credit number\n",
    "credit_num_col = [name for name in col_names if name.startswith('credit_num_')] # contains missing values ~ 231\n",
    "# percentage balance\n",
    "credit_prcnt_col = [name for name in col_names if name.startswith('credit_prcnt_')] # contains missing values ~ 231\n",
    "# final diabetes cormobidity severity index score\n",
    "dcsi_col = [name for name in col_names if name.startswith('dcsi_score')] # no missing values\n",
    "# member age\n",
    "age_col = [name for name in col_names if name.startswith('est_age')] # no missing values\n",
    "# functional comorbidity index value\n",
    "fci_col = [name for name in col_names if name.startswith('fci_score')] # no missing values\n",
    "# sum of weighted HCC categories\n",
    "hcc_col = [name for name in col_names if name.startswith('hcc_weighted_')] # no missing values\n",
    "# Healthcare Effectiveness Data and Information Set\n",
    "hedis_col = [name for name in col_names if name.startswith('hedis_')] # contains missing values ~ 70000, 54930, 1093\n",
    "# health program - silver sneaker senior exercise program\n",
    "hlth_col = [name for name in col_names if name.startswith('hlth_')] # no missing values\n",
    "# abnormal lab results\n",
    "lab_col = [name for name in col_names if name.startswith('lab_')] # no missing values\n",
    "# language\n",
    "lang_col = [name for name in col_names if name.startswith('lang_spoken_')] # contains 'E' = 1984\n",
    "# medicare segmentation\n",
    "mabh_col = [name for name in col_names if name.startswith('mabh_seg')] # contains 'UNK' = 12742\n",
    "# per member per month by utilization category\n",
    "med_col = [name for name in col_names if name.startswith('med_')] # no missing values\n",
    "# percent days covered for each category of drugs \n",
    "pdc_col = [name for name in col_names if name.startswith('pdc_')] # contains '1.1'\n",
    "# physician E&M category\n",
    "phy_col = [name for name in col_names if name.startswith('phy_')] # no missing values\n",
    "# prov_spec_cd\n",
    "prov_col = [name for name in col_names if name.startswith('prov_')] # no missing values\n",
    "# revenue code CMS categories\n",
    "rev_col = [name for name in col_names if name.startswith('rev_')] # no missing values\n",
    "# rural urban continuum code\n",
    "rucc_col = [name for name in col_names if name.startswith('rucc_category')] # no missing values\n",
    "# per member per month count for prescription\n",
    "rx_col = [name for name in col_names if name.startswith('rx_')] # no missing values\n",
    "# standard humana member identifier\n",
    "sdr_col = [name for name in col_names if name.startswith('person_id_')] # no missing values\n",
    "# member gender\n",
    "sex_col = [name for name in col_names if name.startswith('sex_cd')] # no missing values\n",
    "# smoker based on the presence of smoking indication\n",
    "smoker_col = [name for name in col_names if name.startswith('smoker_')] # no missing values\n",
    "# humana member identifier\n",
    "src_col = [name for name in col_names if name.startswith('src_platform')] # no missing values\n",
    "# geographic information - postal abbreviation\n",
    "state_col = [name for name in col_names if name.startswith('state_cd')] # contains 'other' = 46773\n",
    "# per member per month count of logical cliams for each of the MCC categories\n",
    "submcc_col = [name for name in col_names if name.startswith('submcc_')] # no missing values\n",
    "# combined Med & B values by utilization category\n",
    "total_col = [name for name in col_names if name.startswith('total_')] # no missing values\n",
    "# zip code\n",
    "zip_col = [name for name in col_names if name.startswith('zip_cd')] # contains 'other' = 46773"
   ]
  },
  {
   "cell_type": "code",
   "execution_count": 7,
   "metadata": {},
   "outputs": [],
   "source": [
    "master_data = data.copy()\n",
    "master_test_data = test_data.copy()"
   ]
  },
  {
   "cell_type": "markdown",
   "metadata": {},
   "source": [
    "In conclusion:\n",
    "1. new zip_col with 2 digits\n",
    "2. replace '*', 'other', 'UNK',  with null\n",
    "3. convert 'cons_cmys', 'zip_cd' to numeric\n",
    "4. with rucc: new zip_col\n",
    "5. with new zip: 'cons_n2mob', 'cons_n2pbl', 'cons_n2pmv', 'cons_n65p_y', 'cons_cmys', 'cons_hhcomp', 'cons_homstat', all credit cols, lang_col\n",
    "6. with hcc_weighted_sum: cms_col\n",
    "7. with cci_score: 'cons_hcaccprf_h', 'cons_hcaccprf_p', all mabh_col\n",
    "8. with dcsi: all hedis_col\n",
    "9. with est_age: 'cons_n2029_y', 'cons_n65p_y'\n",
    "10. turn pdc_col in binary\n",
    "11. drop column: 'cons_online_buyer', 'cons_ret_y', 'cons_retail_buyer', 'cons_veteran_y', 'hedis_ami', 'hedis_cmc_ldc_c_control', 'hedis_cmc_ldc_c_screen', 'cnty_col', 'state_col', 'person_id_syn', 'src_platform_cd'"
   ]
  },
  {
   "cell_type": "code",
   "execution_count": 8,
   "metadata": {},
   "outputs": [
    {
     "name": "stdout",
     "output_type": "stream",
     "text": [
      "['person_id_syn', 'src_platform_cd', 'sex_cd', 'lang_spoken_cd', 'mabh_seg', 'cms_ra_factor_type_cd', 'cons_cmys', 'cons_hhcomp', 'cons_homstat', 'hedis_ami', 'hedis_cmc_ldc_c_control', 'hedis_cmc_ldc_c_screen', 'hedis_dia_eye', 'hedis_dia_hba1c_ge9', 'hedis_dia_hba1c_test', 'hedis_dia_ldc_c_control', 'hedis_dia_ldc_c_screen', 'hedis_dia_ma_nephr', 'rucc_category', 'zip_cd', 'cnty_cd', 'state_cd']\n"
     ]
    }
   ],
   "source": [
    "# check for categorical variables\n",
    "cat_cols = [name for name in col_names if master_data[name].dtypes == object]\n",
    "print(cat_cols)"
   ]
  },
  {
   "cell_type": "code",
   "execution_count": 9,
   "metadata": {},
   "outputs": [],
   "source": [
    "# keep the first 2 digit of a zip code\n",
    "master_data['zip_cd'] = master_data['zip_cd'].apply(lambda x: x[:2] if x != 'other' else x)\n",
    "master_test_data['zip_cd'] = master_test_data['zip_cd'].apply(lambda x: x[:2] if x != 'other' else x)\n",
    "# keep the first letter of the medicare segmentation\n",
    "master_data['mabh_seg'] = master_data['mabh_seg'].apply(lambda x: x[0] if x != 'UNK' else x)\n",
    "master_test_data['mabh_seg'] = master_test_data['mabh_seg'].apply(lambda x: x[0] if x != 'UNK' else x)\n",
    "# keep the first letter of the rucc code\n",
    "master_data['rucc_category'] = master_data['rucc_category'].apply(lambda x: x[0] if x != 'UNK' else x)\n",
    "master_test_data['rucc_category'] = master_test_data['rucc_category'].apply(lambda x: x[0] if x != 'UNK' else x)\n",
    "# replace artifacts with nan\n",
    "master_data.replace('*', np.nan, inplace = True)\n",
    "master_data.replace('other', np.nan, inplace = True)\n",
    "master_data.replace('UNK', np.nan, inplace = True)\n",
    "master_test_data.replace('*', np.nan, inplace = True)\n",
    "master_test_data.replace('other', np.nan, inplace = True)\n",
    "master_test_data.replace('UNK', np.nan, inplace = True)\n",
    "# replace unknown records with nan\n",
    "master_data['cons_cmys'].replace('0', np.nan, inplace = True)\n",
    "master_data['cons_hhcomp'].replace('U', np.nan, inplace = True)\n",
    "master_data['cons_homstat'].replace('U', np.nan, inplace = True)\n",
    "master_test_data['cons_cmys'].replace('0', np.nan, inplace = True)\n",
    "master_test_data['cons_hhcomp'].replace('U', np.nan, inplace = True)\n",
    "master_test_data['cons_homstat'].replace('U', np.nan, inplace = True)\n",
    "# define a list for columns to be converted from object to float\n",
    "string_to_num_cols = ['cons_cmys']\n",
    "# convert columns to float\n",
    "master_data[string_to_num_cols] = master_data[string_to_num_cols].apply(pd.to_numeric)\n",
    "master_test_data[string_to_num_cols] = master_test_data[string_to_num_cols].apply(pd.to_numeric)"
   ]
  },
  {
   "cell_type": "code",
   "execution_count": 10,
   "metadata": {},
   "outputs": [],
   "source": [
    "# produce mapping\n",
    "rucc_mapping = master_data.groupby(['rucc_category'])[zip_col].apply(lambda x: x.value_counts().index[0]).to_dict()\n",
    "\n",
    "zip_mapping_col = ['cons_n2mob', 'cons_n2pbl', 'cons_n2pmv', 'cons_n65p_y', 'cons_cmys', \n",
    "                   'cons_hhcomp', 'cons_homstat'] + credit_ALL_col + lang_col\n",
    "zip_mapping = master_data.groupby(['zip_cd'])[zip_mapping_col].apply(lambda x: x.value_counts().index[0]).to_dict()\n",
    "\n",
    "hcc_weighted_sum_mapping = master_data.groupby(['hcc_weighted_sum'])[cms_col].apply(lambda x: x.value_counts().index[0]).to_dict()\n",
    "\n",
    "cci_score_mapping_col = ['cons_hcaccprf_h', 'cons_hcaccprf_p'] + mabh_col\n",
    "cci_score_mapping = master_data.groupby(['cci_score'])[cci_score_mapping_col].apply(lambda x: x.value_counts().index[0]).to_dict()\n",
    "\n",
    "dcsi_mapping = master_data.groupby(['dcsi_score'])[hedis_col].apply(lambda x: x.value_counts().index[0]).to_dict()\n",
    "\n",
    "est_age_mapping_col = ['cons_n2029_y', 'cons_n65p_y']\n",
    "est_age_mapping = master_data.groupby(['est_age'])[est_age_mapping_col].apply(lambda x: x.value_counts().index[0]).to_dict()"
   ]
  },
  {
   "cell_type": "code",
   "execution_count": 11,
   "metadata": {},
   "outputs": [],
   "source": [
    "# define a function to perform mapping of missing values\n",
    "def map_missing(num_rows, mapping, source_col, target_col, data):\n",
    "    for i in range(num_rows):\n",
    "        for j, col in enumerate(target_col):\n",
    "            if pd.isna(data.loc[i, col]):\n",
    "                data.loc[i, col] = mapping[data.loc[i, source_col]][j]\n",
    "                pass\n",
    "            pass\n",
    "        pass"
   ]
  },
  {
   "cell_type": "code",
   "execution_count": 12,
   "metadata": {},
   "outputs": [],
   "source": [
    "# define the height of each dataframe\n",
    "master_data_row = master_data.shape[0]\n",
    "master_test_data_row = master_test_data.shape[0]\n",
    "# perform mapping\n",
    "map_missing(master_data_row, rucc_mapping, 'rucc_category', zip_col, master_data)\n",
    "map_missing(master_test_data_row, rucc_mapping, 'rucc_category', zip_col, master_test_data)\n",
    "\n",
    "map_missing(master_data_row, zip_mapping, 'zip_cd', zip_mapping_col, master_data)\n",
    "map_missing(master_test_data_row, zip_mapping, 'zip_cd', zip_mapping_col, master_test_data)\n",
    "\n",
    "map_missing(master_data_row, hcc_weighted_sum_mapping, 'hcc_weighted_sum', cms_col, master_data)\n",
    "map_missing(master_test_data_row, hcc_weighted_sum_mapping, 'hcc_weighted_sum', cms_col, master_test_data)\n",
    "\n",
    "map_missing(master_data_row, cci_score_mapping, 'cci_score', cci_score_mapping_col, master_data)\n",
    "map_missing(master_test_data_row, cci_score_mapping, 'cci_score', cci_score_mapping_col, master_test_data)\n",
    "\n",
    "map_missing(master_data_row, dcsi_mapping, 'dcsi_score', hedis_col, master_data)\n",
    "map_missing(master_test_data_row, dcsi_mapping, 'dcsi_score', hedis_col, master_test_data)\n",
    "\n",
    "map_missing(master_data_row, est_age_mapping, 'est_age', est_age_mapping_col, master_data)\n",
    "map_missing(master_test_data_row, est_age_mapping, 'est_age', est_age_mapping_col, master_test_data)"
   ]
  },
  {
   "cell_type": "code",
   "execution_count": 13,
   "metadata": {},
   "outputs": [],
   "source": [
    "# define columns to be dropped\n",
    "drop_col = ['cons_online_buyer', 'cons_ret_y', 'cons_retail_buyer', 'cons_veteran_y', 'hedis_ami', 'hedis_cmc_ldc_c_control', \n",
    "            'hedis_cmc_ldc_c_screen', 'cnty_cd', 'state_cd', 'person_id_syn', 'src_platform_cd']\n",
    "# drop columns\n",
    "master_data.drop(drop_col, axis = 1, inplace = True, errors = 'ignore')\n",
    "master_test_data.drop(drop_col, axis = 1, inplace = True, errors = 'ignore')"
   ]
  },
  {
   "cell_type": "code",
   "execution_count": 14,
   "metadata": {},
   "outputs": [],
   "source": [
    "# export imputed file to csv\n",
    "master_data.to_csv('imputed_training.csv', index = False)\n",
    "master_test_data.to_csv('imputed_holdout.csv', index = False)"
   ]
  },
  {
   "cell_type": "code",
   "execution_count": 15,
   "metadata": {},
   "outputs": [],
   "source": [
    "# inputed_data = pd.read_csv('imputed_training.csv', low_memory = False)\n",
    "# inputed_test_data = pd.read_csv('imputed_holdout.csv', low_memory = False)\n",
    "\n",
    "imputed_data = master_data.copy()\n",
    "imputed_test_data = master_test_data.copy()"
   ]
  },
  {
   "cell_type": "code",
   "execution_count": 16,
   "metadata": {},
   "outputs": [
    {
     "data": {
      "text/plain": [
       "['sex_cd',\n",
       " 'lang_spoken_cd',\n",
       " 'mabh_seg',\n",
       " 'cms_ra_factor_type_cd',\n",
       " 'cons_hhcomp',\n",
       " 'cons_homstat',\n",
       " 'hedis_dia_eye',\n",
       " 'hedis_dia_hba1c_ge9',\n",
       " 'hedis_dia_hba1c_test',\n",
       " 'hedis_dia_ldc_c_control',\n",
       " 'hedis_dia_ldc_c_screen',\n",
       " 'hedis_dia_ma_nephr',\n",
       " 'rucc_category',\n",
       " 'zip_cd']"
      ]
     },
     "execution_count": 16,
     "metadata": {},
     "output_type": "execute_result"
    }
   ],
   "source": [
    "# imputed_data['zip_cd'] = imputed_data['zip_cd'].astype('object')\n",
    "# imputed_test_data['zip_cd'] = imputed_data['zip_cd'].astype('object')\n",
    "#check for categorical variables\n",
    "cat_cols = [name for name in imputed_data.columns if imputed_data[name].dtypes == object]\n",
    "cat_cols"
   ]
  },
  {
   "cell_type": "code",
   "execution_count": 17,
   "metadata": {},
   "outputs": [],
   "source": [
    "ordinal_cat_cols = ['mabh_seg', 'cons_homstat', 'rucc_category']\n",
    "nominal_cat_cols = ['sex_cd', 'lang_spoken_cd', 'cms_ra_factor_type_cd', 'cons_hhcomp', 'hedis_dia_eye', 'hedis_dia_hba1c_ge9',\n",
    "                   'hedis_dia_hba1c_test', 'hedis_dia_ldc_c_control', 'hedis_dia_ldc_c_screen', 'hedis_dia_ma_nephr', 'zip_cd']\n",
    "binary_cols = pdc_col"
   ]
  },
  {
   "cell_type": "code",
   "execution_count": 18,
   "metadata": {},
   "outputs": [],
   "source": [
    "# encode pdc_col\n",
    "imputed_data[pdc_col] = (imputed_data[pdc_col] != 1.1).astype('int32')\n",
    "imputed_test_data[pdc_col] = (imputed_test_data[pdc_col] != 1.1).astype('int32')"
   ]
  },
  {
   "cell_type": "code",
   "execution_count": 19,
   "metadata": {},
   "outputs": [],
   "source": [
    "# encode ordinal_cat_cols\n",
    "ordinal_mapping = [{'col':'mabh_seg', 'mapping':{'H':1, \n",
    "                                                 'C':0}},\n",
    "                   {'col':'cons_homstat', 'mapping':{'T':0,\n",
    "                                                     'R':1,\n",
    "                                                     'P':2,\n",
    "                                                     'Y':3}},\n",
    "                   {'col':'rucc_category', 'mapping':{'1':9, '2':8, '3':7,\n",
    "                                                      '4':6, '5':5, '6':4,\n",
    "                                                      '7':3, '8':2, '9':1}}]\n",
    "\n",
    "import category_encoders as ce\n",
    "ordinal_encoder = ce.OrdinalEncoder(ordinal_cat_cols, mapping = ordinal_mapping)\n",
    "imputed_data = ordinal_encoder.fit_transform(imputed_data)\n",
    "imputed_test_data = ordinal_encoder.transform(imputed_test_data)"
   ]
  },
  {
   "cell_type": "code",
   "execution_count": 20,
   "metadata": {},
   "outputs": [
    {
     "name": "stderr",
     "output_type": "stream",
     "text": [
      "/usr/local/lib/python3.7/site-packages/category_encoders/utils.py:21: FutureWarning: is_categorical is deprecated and will be removed in a future version.  Use is_categorical_dtype instead\n",
      "  elif pd.api.types.is_categorical(cols):\n"
     ]
    }
   ],
   "source": [
    "ohe_encoder = ce.OneHotEncoder(cols = nominal_cat_cols, return_df = True, use_cat_names= True)\n",
    "imputed_data = ohe_encoder.fit_transform(imputed_data)\n",
    "imputed_test_data = ohe_encoder.transform(imputed_test_data)"
   ]
  },
  {
   "cell_type": "code",
   "execution_count": 21,
   "metadata": {},
   "outputs": [],
   "source": [
    "# export imputed file to csv\n",
    "imputed_data.to_csv('encoded_training.csv', index = False)\n",
    "imputed_test_data.to_csv('encoded_holdout.csv', index = False)"
   ]
  },
  {
   "cell_type": "code",
   "execution_count": 235,
   "metadata": {},
   "outputs": [],
   "source": [
    "# encoded_data = pd.read_csv('encoded_training.csv', low_memory = False)\n",
    "# encoded_test_data = pd.read_csv('encoded_holdout.csv', low_memory = False)\n",
    "\n",
    "encoded_data = imputed_data.copy()\n",
    "encoded_test_data = imputed_test_data.copy()"
   ]
  },
  {
   "cell_type": "code",
   "execution_count": null,
   "metadata": {},
   "outputs": [],
   "source": []
  },
  {
   "cell_type": "code",
   "execution_count": 236,
   "metadata": {},
   "outputs": [],
   "source": [
    "encoded_cols = encoded_data.columns"
   ]
  },
  {
   "cell_type": "code",
   "execution_count": 237,
   "metadata": {},
   "outputs": [],
   "source": [
    "betos_col = [name for name in encoded_cols if name.startswith('betos_')] # 0:pmpm_ct, 1:_ind\n",
    "bh_col = [name for name in encoded_cols if name.startswith('bh_')] # 1:_ind\n",
    "cci_col = [name for name in encoded_cols if name.startswith('cci_')] # 0:_score\n",
    "ccsp_col = [name for name in encoded_cols if name.startswith('ccsp_')] # 1:_ind, ccsp_034_ind, ccsp_120_ind: all 0\n",
    "cms_col = [name for name in encoded_cols if name.startswith('cms_')] # 0: _amt, _nbr, 1: _ind, cd_%%\n",
    "cmsd2_col = [name for name in encoded_cols if name.startswith('cmsd2_')] # 1:_ind\n",
    "cons_col = [name for name in encoded_cols if name.startswith('cons_')] # use all \n",
    "credit_ALL_col = [name for name in encoded_cols if name.startswith('credit_')] \n",
    "credit_bal_col = [name for name in encoded_cols if name.startswith('credit_bal_')] # all continuous\n",
    "credit_hh_col = [name for name in encoded_cols if name.startswith('credit_hh_')] # all continuous\n",
    "credit_highcrd_col = [name for name in encoded_cols if name.startswith('credit_highcrd_')] # all continuous\n",
    "credit_minmob_col = [name for name in encoded_cols if name.startswith('credit_minmob_')] # all continuous\n",
    "credit_num_col = [name for name in encoded_cols if name.startswith('credit_num_')] # all continuous\n",
    "credit_prcnt_col = [name for name in encoded_cols if name.startswith('credit_prcnt_')] # all continuous\n",
    "dcsi_col = [name for name in encoded_cols if name.startswith('dcsi_score')] # 0:dcsi_score\n",
    "age_col = [name for name in encoded_cols if name.startswith('est_age')] # 0: est_age\n",
    "fci_col = [name for name in encoded_cols if name.startswith('fci_score')] # 0: fci_score\n",
    "hcc_col = [name for name in encoded_cols if name.startswith('hcc_weighted_')] # 0: hcc_weighted_sum\n",
    "hedis_col = [name for name in encoded_cols if name.startswith('hedis_')] # all binary\n",
    "hlth_col = [name for name in encoded_cols if name.startswith('hlth_')] # 1: _par_status, _pct_par..hlth_pgm_slvrsnkr_refer_status: all 0\n",
    "lab_col = [name for name in encoded_cols if name.startswith('lab_')] # 1:_ind\n",
    "lang_col = [name for name in encoded_cols if name.startswith('lang_spoken_')] # all binary\n",
    "mabh_col = [name for name in encoded_cols if name.startswith('mabh_seg')] # all binary\n",
    "med_col = [name for name in encoded_cols if name.startswith('med_')] # all continuous, \n",
    "# [med_ip_ltach_admit_ct_pmpm, med_ip_ltach_admit_days_pmpm, med_ip_maternity_admit_ct_pmpm, med_ip_maternity_admit_days_pmpm,\n",
    "# med_ip_mhsa_admit_ct_pmpm, med_ip_mhsa_admit_days_pmpm] all 0\n",
    "pdc_col = [name for name in encoded_cols if name.startswith('pdc_')] # all binary\n",
    "phy_col = [name for name in encoded_cols if name.startswith('phy_')] # all binary, 0: _ind\n",
    "prov_col = [name for name in encoded_cols if name.startswith('prov_')] # all binary, 0: _ind\n",
    "rev_col = [name for name in encoded_cols if name.startswith('rev_')] # all binary, 0: _ind ... rev_cms_nicu_ind: all 0\n",
    "rucc_col = [name for name in encoded_cols if name.startswith('rucc_category')] # continuous\n",
    "rx_col = [name for name in encoded_cols if name.startswith('rx_')] # 0:pmpm_ct, 1:_ind ... \n",
    "# ['rx_gpi2_45_ind', 'rx_gpi2_84_ind', 'rx_gpi2_81_ind', 'rx_gpi2_29_ind',\n",
    "#        'rx_gpi2_14_ind', 'rx_gpi2_19_ind', 'rx_gpi2_92_ind', 'rx_gpi2_95_ind',\n",
    "#        'rx_gpi2_08_ind', 'rx_gpi2_69_ind', 'rx_gpi2_76_ind', 'rx_gpi2_80_ind',\n",
    "#        'rx_gpi2_98_ind', 'rx_gpi2_20_ind', 'rx_gpi2_70_ind', 'rx_gpi2_96_ind']\n",
    "sex_col = [name for name in encoded_cols if name.startswith('sex_cd')] # all binary\n",
    "smoker_col = [name for name in encoded_cols if name.startswith('smoker_')] # all binary\n",
    "submcc_col = [name for name in encoded_cols if name.startswith('submcc_')] # 0:pmpm_ct, 1:_ind ... \n",
    "# ['submcc_pre_del_ind', 'submcc_rar_drm_ind', 'submcc_ben_lymp_ind',\n",
    "#        'submcc_pre_othr_ind', 'submcc_rar_othr_ind', 'submcc_hdz_surg_ind',\n",
    "#        'submcc_cad_fh/ho_ind', 'submcc_neo_fh/ho_ind', 'submcc_rar_als_ind',\n",
    "#        'submcc_rar_cf_ind', 'submcc_rar_sca_ind', 'submcc_inf_men_ind',\n",
    "#        'submcc_hdz_it_i_ind', 'submcc_trm_fxu_ind', 'submcc_hiv_pcp_ind',\n",
    "#        'submcc_rar_pol_ind', 'submcc_rsk_fh/h_ind', 'submcc_rsk_pcos_ind',\n",
    "#        'submcc_pre_ect_ind', 'submcc_pre_mul_ind', 'submcc_brn_acc_ind',\n",
    "#        'submcc_rsk_an_ind', 'submcc_hiv_kapo_ind', 'submcc_rsk_othr_ind']\n",
    "total_col = [name for name in encoded_cols if name.startswith('total_')] # 0:pmpm_ct\n",
    "# ['total_ip_ltach_admit_ct_pmpm', 'total_ip_ltach_admit_days_pmpm',\n",
    "#        'total_ip_maternity_admit_ct_pmpm',\n",
    "#        'total_ip_maternity_admit_days_pmpm']\n",
    "\n",
    "zip_col = [name for name in encoded_cols if name.startswith('zip_cd')] # all start with zip_cd"
   ]
  },
  {
   "cell_type": "code",
   "execution_count": 238,
   "metadata": {},
   "outputs": [],
   "source": [
    "# drop columns that contains all 0 values\n",
    "drop_cols = ['ccsp_034_ind', 'ccsp_120_ind', 'hlth_pgm_slvrsnkr_refer_status', 'med_ip_ltach_admit_ct_pmpm', \n",
    "             'med_ip_ltach_admit_days_pmpm', 'med_ip_maternity_admit_ct_pmpm', 'med_ip_maternity_admit_days_pmpm', \n",
    "             'med_ip_mhsa_admit_ct_pmpm', 'med_ip_mhsa_admit_days_pmpm', 'rx_gpi2_45_ind', 'rx_gpi2_84_ind', \n",
    "             'rx_gpi2_81_ind', 'rx_gpi2_29_ind', 'rx_gpi2_14_ind', 'rx_gpi2_19_ind', 'rx_gpi2_92_ind', \n",
    "             'rx_gpi2_95_ind', 'rx_gpi2_08_ind', 'rx_gpi2_69_ind', 'rx_gpi2_76_ind', 'rx_gpi2_80_ind',\n",
    "             'rx_gpi2_98_ind', 'rx_gpi2_20_ind', 'rx_gpi2_70_ind', 'rx_gpi2_96_ind', 'submcc_pre_del_ind', \n",
    "             'submcc_rar_drm_ind', 'submcc_ben_lymp_ind','submcc_pre_othr_ind', 'submcc_rar_othr_ind', \n",
    "             'submcc_hdz_surg_ind', 'submcc_cad_fh/ho_ind', 'submcc_neo_fh/ho_ind', 'submcc_rar_als_ind', \n",
    "             'submcc_rar_cf_ind', 'submcc_rar_sca_ind', 'submcc_inf_men_ind', 'submcc_hdz_it_i_ind', \n",
    "             'submcc_trm_fxu_ind', 'submcc_hiv_pcp_ind', 'submcc_rar_pol_ind', 'submcc_rsk_fh/h_ind', \n",
    "             'submcc_rsk_pcos_ind', 'submcc_pre_ect_ind', 'submcc_pre_mul_ind', 'submcc_brn_acc_ind',\n",
    "             'submcc_rsk_an_ind', 'submcc_hiv_kapo_ind', 'submcc_rsk_othr_ind', 'total_ip_ltach_admit_ct_pmpm', \n",
    "             'total_ip_ltach_admit_days_pmpm', 'total_ip_maternity_admit_ct_pmpm', 'total_ip_maternity_admit_days_pmpm',\n",
    "             'rev_cms_nicu_ind']\n",
    "# drop columns\n",
    "encoded_data.drop(drop_cols, axis = 1, inplace = True, errors = 'ignore')\n",
    "encoded_test_data.drop(drop_cols, axis = 1, inplace = True, errors = 'ignore')"
   ]
  },
  {
   "cell_type": "code",
   "execution_count": 239,
   "metadata": {},
   "outputs": [],
   "source": [
    "# drop redundant nonbinary information \n",
    "nonbin_betos = [n for n in betos_col if n not in drop_cols and n.endswith('_pmpm_ct')]\n",
    "nonbin_cms = [n for n in cms_col if n not in drop_cols and (n.endswith('_amt') or n.endswith('eligible_ind'))]\n",
    "nonbin_hlth = ['hlth_pgm_slvrsnkr_pct_par']\n",
    "nonbin_med = [n for n in med_col if n not in drop_cols and n.endswith('_days_pmpm')]\n",
    "nonbin_rx = [n for n in rx_col if n not in drop_cols and (n.endswith('_pmpm_ct') \n",
    "                                                          and not n.startswith('rx_overall') and not n.startswith('rx_mail'))]\n",
    "nonbin_submcc = [n for n in submcc_col if n not in drop_cols and n.endswith('_pmpm_ct')]\n",
    "nonbin_total = [n for n in total_col if n not in drop_cols and n.endswith('_days_pmpm')]\n",
    "\n",
    "nonbin_cols = nonbin_betos + nonbin_cms + nonbin_hlth + nonbin_med + nonbin_rx + nonbin_submcc + nonbin_total\n",
    "# drop columns\n",
    "encoded_data.drop(nonbin_cols, axis = 1, inplace = True, errors = 'ignore')\n",
    "encoded_test_data.drop(nonbin_cols, axis = 1, inplace = True, errors = 'ignore')"
   ]
  },
  {
   "cell_type": "code",
   "execution_count": 240,
   "metadata": {},
   "outputs": [],
   "source": [
    "# drop entire med_col because its encapsulated in total_col\n",
    "encoded_data.drop([n for n in encoded_data.columns if n.startswith('med_')], axis = 1, inplace = True, errors = 'ignore')\n",
    "encoded_test_data.drop([n for n in encoded_test_data.columns if n.startswith('med_')], axis = 1, inplace = True, errors = 'ignore')"
   ]
  },
  {
   "cell_type": "code",
   "execution_count": 241,
   "metadata": {},
   "outputs": [],
   "source": [
    "# split data\n",
    "from sklearn.model_selection import train_test_split\n",
    "\n",
    "train_data, val_data, train_y, val_y = train_test_split(encoded_data, y_data, test_size = 0.2, random_state = 44)"
   ]
  },
  {
   "cell_type": "code",
   "execution_count": 242,
   "metadata": {},
   "outputs": [],
   "source": [
    "# define a function that calculates conditional ratio of response variable\n",
    "def column_div(df):\n",
    "    if df[1] != 0:\n",
    "        return df[0]/df[1]\n",
    "    else:\n",
    "        return False"
   ]
  },
  {
   "cell_type": "code",
   "execution_count": 243,
   "metadata": {},
   "outputs": [],
   "source": [
    "rest_betos = [name for name in encoded_data.columns if name.startswith('betos_')]\n",
    "rest_bh = [name for name in encoded_data.columns if name.startswith('bh_')]\n",
    "rest_ccsp = [name for name in encoded_data.columns if name.startswith('ccsp_')]\n",
    "rest_cms = [name for name in encoded_data.columns if name.startswith('cms_')]\n",
    "rest_cmsd2 = [name for name in encoded_data.columns if name.startswith('cmsd2_')]\n",
    "rest_hedis = [name for name in encoded_data.columns if name.startswith('hedis_')]\n",
    "rest_hlth = [name for name in encoded_data.columns if name.startswith('hlth_')]\n",
    "rest_lab = [name for name in encoded_data.columns if name.startswith('lab_')]\n",
    "rest_lang = [name for name in encoded_data.columns if name.startswith('lang_')]\n",
    "rest_pdc = [name for name in encoded_data.columns if name.startswith('pdc_')]\n",
    "rest_phy = [name for name in encoded_data.columns if name.startswith('phy_')]\n",
    "rest_prov = [name for name in encoded_data.columns if name.startswith('prov_')]\n",
    "rest_rev = [name for name in encoded_data.columns if name.startswith('rev_')]\n",
    "rest_rx = [name for name in encoded_data.columns if name.startswith('rx_')]\n",
    "rest_sex = [name for name in encoded_data.columns if name.startswith('sex_')]\n",
    "rest_smoker = [name for name in encoded_data.columns if name.startswith('smoker_')]\n",
    "rest_submcc = [name for name in encoded_data.columns if name.startswith('submcc_')]\n",
    "rest_total = [name for name in encoded_data.columns if name.startswith('total_')]"
   ]
  },
  {
   "cell_type": "code",
   "execution_count": 246,
   "metadata": {},
   "outputs": [
    {
     "data": {
      "text/plain": [
       "{'betos_o1e_ind': {0: 6.694451175187788, 1: 4.910484668644906},\n",
       " 'betos_t2a_ind': {0: 6.434704830053668, 1: 5.058123817247905},\n",
       " 'betos_t1a_ind': {0: 4.526752767527675, 1: 6.275528902215559},\n",
       " 'betos_m2c_ind': {0: 5.938983488132095, 1: 3.4534606205250595},\n",
       " 'betos_m5b_ind': {0: 6.178183816458304, 1: 2.819506726457399},\n",
       " 'betos_t1b_ind': {0: 5.80153452685422, 1: 5.814671814671815},\n",
       " 'betos_m5d_ind': {0: 5.2500580990006975, 1: 6.436142709410548},\n",
       " 'betos_o1a_ind': {0: 7.155857385398981, 1: 2.340201665935993},\n",
       " 'betos_m5c_ind': {0: 5.138053097345133, 1: 6.921257290991575},\n",
       " 'betos_d1c_ind': {0: 5.963016393442623, 1: 3.695970695970696},\n",
       " 'betos_t1h_ind': {0: 4.848729792147806, 1: 5.925667351129364},\n",
       " 'betos_o1b_ind': {0: 5.7312593703148424, 1: 9.658682634730539},\n",
       " 'betos_d1d_ind': {0: 5.905001889882827, 1: 2.641025641025641},\n",
       " 'betos_t1e_ind': {0: 6.174177290246072, 1: 4.094736842105263},\n",
       " 'betos_o1g_ind': {0: 5.523106659638025, 1: 6.473387096774194},\n",
       " 'betos_y2_ind': {0: 6.118729552889858, 1: 3.112574850299401},\n",
       " 'betos_m1b_ind': {0: 4.567692307692307, 1: 5.919026725169525}}"
      ]
     },
     "execution_count": 246,
     "metadata": {},
     "output_type": "execute_result"
    }
   ],
   "source": [
    "# keep the one where difference is greater than 2.5\n",
    "temp_dict = {}\n",
    "for col in rest_betos:\n",
    "    temp_dict[col] = pd.crosstab(train_data[col], train_y, margins = False).apply(column_div, axis = 1).to_dict()\n",
    "temp_dict"
   ]
  },
  {
   "cell_type": "code",
   "execution_count": 248,
   "metadata": {},
   "outputs": [
    {
     "name": "stdout",
     "output_type": "stream",
     "text": [
      "{'credit_bal_1stmtg_30to59dpd': {0: 725.5758085528862, 1: 720.9000494536758}}\n",
      "{'credit_bal_1stmtg_60to89dpd': {0: 243.81528811520337, 1: 252.49562659056318}}\n",
      "{'credit_bal_1stmtg_collections': {0: 323.12992203825115, 1: 346.7096547448065}}\n",
      "{'credit_bal_1stmtg_severederog': {0: 33.04600449609558, 1: 34.398451647553834}}\n",
      "{'credit_bal_1stmtgcredit_60dpd': {0: 1030.9393711501025, 1: 1099.9973621887152}}\n",
      "{'credit_bal_agency1stmorg_collectio': {0: 121.60165328570466, 1: 124.81486114598287}}\n",
      "{'credit_bal_agencyfirstmtg_60dpd': {0: 366.2852279180137, 1: 381.5469126209558}}\n",
      "{'credit_bal_agencyfirstmtg_new': {0: 5806.567716196336, 1: 5189.736019409852}}\n",
      "{'credit_bal_autobank': {0: 4746.496072630631, 1: 4558.747028382094}}\n",
      "{'credit_bal_autobank_new': {0: 2053.3467945214434, 1: 1952.1427525001693}}\n",
      "{'credit_bal_autofinance': {0: 5067.283022345308, 1: 5379.588131425242}}\n",
      "{'credit_bal_autofinance_new': {0: 2102.6161351443448, 1: 2207.253898072902}}\n",
      "{'credit_bal_bankcard_severederog': {0: 373.4745858521534, 1: 388.83202005343384}}\n",
      "{'credit_bal_consumerfinance': {0: 829.3778455154822, 1: 843.1930060066861}}\n",
      "{'credit_bal_consumerfinance_new': {0: 355.9139771641579, 1: 357.5485375413854}}\n",
      "{'credit_bal_heloc_60dpd': {0: 41.64183442140757, 1: 45.50029764167129}}\n",
      "{'credit_bal_heloc_severederog': {0: 10.105907081141662, 1: 10.691219419348924}}\n",
      "{'credit_bal_mtg_90to119dpd': {0: 99.62544953307547, 1: 99.44862416251046}}\n",
      "{'credit_bal_mtg_bankruptcy': {0: 135.81229483317048, 1: 149.72751279752322}}\n",
      "{'credit_bal_mtg_severederog': {0: 70.49881904046936, 1: 73.93436341567325}}\n",
      "{'credit_bal_mtgcredit_new': {0: 8398.196651712493, 1: 7578.594949142756}}\n",
      "{'credit_bal_nonagn1stmorg_30to59dpd': {0: 312.1937288993651, 1: 320.1567363831429}}\n",
      "{'credit_bal_nonagn1stmorg_60to89dpd': {0: 119.7795690311521, 1: 125.41111588423357}}\n",
      "{'credit_bal_nonagn1stmorg_90to119dp': {0: 40.53404324683174, 1: 41.0530510769204}}\n",
      "{'credit_bal_nonagn1stmorg_bankruptc': {0: 100.19445385674344, 1: 111.74970380668535}}\n",
      "{'credit_bal_nonagn1stmorg_collectio': {0: 175.64775508761966, 1: 198.326928357482}}\n",
      "{'credit_bal_nonagnfirstmtg_60dpd': {0: 665.4633468061561, 1: 722.2417154600959}}\n",
      "{'credit_bal_nonmtgcredit_60dpd': {0: 2425.288966748064, 1: 2672.443633806751}}\n",
      "{'credit_bal_studentloan_60dpd': {0: 1139.752529676478, 1: 1243.4223622323702}}\n",
      "{'credit_bal_totalallcredit_60dpd': {0: 3745.7230460048067, 1: 4033.024688718629}}\n",
      "{'credit_bal_totalallcredit_60to89dpd': {0: 377.13973909055363, 1: 387.1172841372792}}\n",
      "{'credit_bal_totalallcredit_90to119dpd': {0: 259.69032914232884, 1: 269.18377073326656}}\n",
      "{'credit_bal_totalallcredit_new': {0: 15064.968731277098, 1: 14198.631301149593}}\n",
      "{'credit_hh_1stmtg_severederog': {0: 0.049318651003123326, 1: 0.049731512921338816}}\n",
      "{'credit_hh_1stmtgcredit': {0: 32.538662213530884, 1: 29.97590548046818}}\n",
      "{'credit_hh_1stmtgcredit_new': {0: 4.211074206148446, 1: 3.789902111724885}}\n",
      "{'credit_hh_agencyfirstmtg': {0: 21.8908702013686, 1: 20.552011890157203}}\n",
      "{'credit_hh_agencyfirstmtg_new': {0: 2.9358995733439452, 1: 2.635947867194856}}\n",
      "{'credit_hh_autobank': {0: 24.43319000685338, 1: 23.71802564429068}}\n",
      "{'credit_hh_autobank_new': {0: 8.751404636151886, 1: 8.374623283413483}}\n",
      "{'credit_hh_autofinance': {0: 28.78559180056778, 1: 30.008942575365648}}\n",
      "{'credit_hh_autofinance_new': {0: 9.867710834892996, 1: 10.259656486783332}}\n",
      "{'credit_hh_bankcard_severederog': {0: 7.679862324210367, 1: 8.455629282957068}}\n",
      "{'credit_hh_bankcardcredit_60dpd': {0: 9.842902286747256, 1: 10.6635465039839}}\n",
      "{'credit_hh_consumerfinance': {0: 34.57728647827266, 1: 34.89880952398735}}\n",
      "{'credit_hh_consumerfinance_new': {0: 13.243318712031968, 1: 13.513669117059502}}\n",
      "{'credit_hh_mtg_severederog': {0: 0.15187255823316337, 1: 0.15665726592280801}}\n",
      "{'credit_hh_mtgcredit_new': {0: 5.367195888278532, 1: 4.8782836693117195}}\n",
      "{'credit_hh_nonagnfirstmtg': {0: 10.626609826014242, 1: 10.147299939780122}}\n",
      "{'credit_hh_nonmtgcredit_60dpd': {0: 21.235044551665162, 1: 23.11052515806125}}\n",
      "{'credit_hh_studentloan': {0: 25.65555330230825, 1: 26.09314803749741}}\n",
      "{'credit_hh_studentloan_60dpd': {0: 4.895694876370266, 1: 5.369361564393474}}\n",
      "{'credit_hh_totalallcredit_bankruptcy': {0: 0.27829835695148475, 1: 0.2980818685832233}}\n",
      "{'credit_hh_totalallcredit_collections': {0: 4.758630511074745, 1: 5.259351039691669}}\n",
      "{'credit_hh_totalallcredit_severederog': {0: 17.02999101987735, 1: 18.728914563329027}}\n",
      "{'credit_highcrd_consumerfinance_new': {0: 756.5396363670143, 1: 759.6900705165837}}\n",
      "{'credit_minmob_1stmtgcredit': {0: 22.211420854714188, 1: 21.785741006250287}}\n",
      "{'credit_minmob_agencyfirstmtg': {0: 14.358776048106847, 1: 13.721818555350824}}\n",
      "{'credit_minmob_mtgcredit': {0: 25.13619617350936, 1: 24.721492707883954}}\n",
      "{'credit_minmob_nonagn': {0: 8.974681860216242, 1: 9.011404251734763}}\n",
      "{'credit_num_1stmtg_30to59dpd': {0: 0.0055027675226130505, 1: 0.005619290146207296}}\n",
      "{'credit_num_1stmtg_60to89dpd': {0: 0.0017169598674387494, 1: 0.0017930876485338844}}\n",
      "{'credit_num_1stmtg_bankruptcy': {0: 0.001051870793806126, 1: 0.001121111983524395}}\n",
      "{'credit_num_1stmtg_collections': {0: 0.0020986497072770826, 1: 0.00226854819585632}}\n",
      "{'credit_num_1stmtg_severederog': {0: 0.0004981508331684718, 1: 0.0005011411390421835}}\n",
      "{'credit_num_1stmtgcredit': {0: 0.3576166580756781, 1: 0.3380214465527415}}\n",
      "{'credit_num_1stmtgcredit_new': {0: 0.04334867336083739, 1: 0.03880723760988055}}\n",
      "{'credit_num_agency1stmorg_collectio': {0: 0.0008154998361003952, 1: 0.0008416704416689334}}\n",
      "{'credit_num_agencyfirstmtg': {0: 0.2456994065449004, 1: 0.22736451678913144}}\n",
      "{'credit_num_agencyfirstmtg_60dpd': {0: 0.002453513895525416, 1: 0.0025590226382857127}}\n",
      "{'credit_num_agencyfirstmtg_new': {0: 0.02969737864828139, 1: 0.02695835890764691}}\n",
      "{'credit_num_autobank': {0: 0.2963659611388707, 1: 0.28442570490442004}}\n",
      "{'credit_num_autobank_new': {0: 0.09553280519548948, 1: 0.09116662548776644}}\n",
      "{'credit_num_autofinance': {0: 0.36035613036578584, 1: 0.3791308907523476}}\n",
      "{'credit_num_autofinance_new': {0: 0.10742222564207066, 1: 0.11225377382828312}}\n",
      "{'credit_num_bankcard_severederog': {0: 0.11701764500028693, 1: 0.12872367214733416}}\n",
      "{'credit_num_consumerfinance': {0: 0.5668710680953745, 1: 0.5719223818562429}}\n",
      "{'credit_num_consumerfinance_new': {0: 0.16014460920656304, 1: 0.16335652766471476}}\n",
      "{'credit_num_heloc_60dpd': {0: 0.0008657512143196353, 1: 0.0009215088771738943}}\n",
      "{'credit_num_heloc_severederog': {0: 0.00025929051780979886, 1: 0.0002717837888788372}}\n",
      "{'credit_num_mtg_60to89dpd': {0: 0.001928256792199231, 1: 0.0019861080334247832}}\n",
      "{'credit_num_mtg_90to119dpd': {0: 0.0008526536340453784, 1: 0.0008767642192088407}}\n",
      "{'credit_num_mtg_collections': {0: 0.002895054782872864, 1: 0.003138671439091375}}\n",
      "{'credit_num_mtg_severederog': {0: 0.0015746975042434555, 1: 0.0016208354160805035}}\n",
      "{'credit_num_mtgcredit_new': {0: 0.05639815313549641, 1: 0.0521885048208536}}\n",
      "{'credit_num_nonagn1stmorg_30to59dpd': {0: 0.002386932503336741, 1: 0.002492775818755444}}\n",
      "{'credit_num_nonagn1stmorg_60to89dpd': {0: 0.0008875238618186285, 1: 0.00094080109108707}}\n",
      "{'credit_num_nonagn1stmorg_90to119dp': {0: 0.0003161822064392028, 1: 0.0003278375844073331}}\n",
      "{'credit_num_nonagn1stmorg_bankruptc': {0: 0.0007784568020250235, 1: 0.000889865027118397}}\n",
      "{'credit_num_nonagn1stmorg_collectio': {0: 0.0012313708750387774, 1: 0.0013234366533015811}}\n",
      "{'credit_num_nonmtgcredit_60dpd': {0: 0.5343243228795931, 1: 0.5895975761465306}}\n",
      "{'credit_num_studentloan': {0: 1.1630557335246976, 1: 1.1782642956414937}}\n",
      "{'credit_num_studentloan_60dpd': {0: 0.17275735853099505, 1: 0.1895157723679523}}\n",
      "{'credit_num_totalallcredit_collections': {0: 0.10000440829382293, 1: 0.10908778239792133}}\n",
      "{'credit_num_totalallcredit_severederog': {0: 0.3718776152863891, 1: 0.4188845246616768}}\n",
      "{'credit_prcnt_agencyfirstmtg': {0: 58.90402519655719, 1: 57.364406036795636}}\n",
      "{'credit_prcnt_autobank': {0: 58.07863266104886, 1: 57.77810995435057}}\n",
      "{'credit_prcnt_mtgcredit': {0: 62.14890650446949, 1: 60.707092976108704}}\n",
      "{'credit_prcnt_nonagnfirstmtg': {0: 49.240327115008014, 1: 47.66527072161468}}\n"
     ]
    }
   ],
   "source": [
    "# keep the one where difference is greter than 10%\n",
    "for col in credit_ALL_col:\n",
    "    print(train_data.groupby(train_y)[[col]].apply(lambda x: x.median()).to_dict())"
   ]
  },
  {
   "cell_type": "markdown",
   "metadata": {},
   "source": [
    "- betos: use 'betos_m2c_ind', 'betos_m5b_ind', 'betos_o1a_ind', 'betos_o1b_ind', 'betos_d1d_ind', 'betos_y2_ind'\n",
    "- bh: use all \n",
    "- cci: use cci_score\n",
    "- ccsp: use 'ccsp_060_ind', 'ccsp_060_ind', 'ccsp_163_ind', 'ccsp_205_ind', 'ccsp_236_ind', 'ccsp_239_ind'\n",
    "- cms: use all, and cms_ma_risk_score_nbr + cms_rx_risk_score_nbr\n",
    "- cmsd2: use 'cmsd2_men_mad_ind', 'cmsd2_men_men_substance_ind', 'cmsd2_skn_radiation_ind', 'cmsd2_sns_general_ind'\n",
    "- cons: use all\n",
    "- credit: use 'credit_bal_agencyfirstmtg_new', 'credit_bal_heloc_60dpd', 'credit_bal_mtg_bankruptcy', 'credit_bal_mtgcredit_new', 'credit_bal_nonagn1stmorg_bankruptc', 'credit_bal_nonagn1stmorg_collectio', 'credit_bal_nonmtgcredit_60dpd', 'credit_hh_1stmtgcredit', 'credit_hh_1stmtgcredit_new','credit_hh_agencyfirstmtg_new', 'credit_hh_bankcard_severederog', 'credit_hh_totalallcredit_collections', 'credit_num_1stmtgcredit_new', 'credit_num_agencyfirstmtg_new', 'credit_num_mtg_collections', 'credit_num_nonagn1stmorg_bankruptc' \n",
    "- dcsi: use dcsi_score\n",
    "- age: use est_age\n",
    "- fci: use fci_score\n",
    "- hcc: use hcc_weighted_sum\n",
    "- hlth: use 'hlth_pgm_slvrsnkr_par_status'\n",
    "- mabh: use mabh_seg\n",
    "- pdc: use 'pdc_ast', 'pdc_dep'\n",
    "- phy: use 'phy_em_pe_ind', 'phy_em_pi_ind'\n",
    "- prov: 'prov_spec_ambulance_ind', 'prov_spec_bh_psychiatric_ind', 'prov_spec_chiropractic_ind', 'prov_spec_home_health_ind', 'prov_spec_pain_mgmt_ind'\n",
    "- rev: use 'rev_cms_ambul_ind', 'rev_cms_er_ind', 'rev_cms_icu_ind', 'rev_cms_phar_ind'\n",
    "- rucc: use rucc_category\n",
    "- rx: rx_mail_ind, overall_pmpm_ct, 'rx_gpi2_18_ind', 'rx_gpi2_78_ind', 'rx_gpi2_17_ind', 'rx_gpi2_62_ind', 'rx_bh_ind', 'rx_gpi2_93_ind', 'rx_gpi2_51_ind', 'rx_gpi2_43_ind', 'rx_gpi2_25_ind', 'rx_gpi2_59_ind', 'rx_gpi2_65_ind', 'rx_gpi2_75_ind', 'rx_gpi2_61_ind', 'rx_gpi2_58_ind', 'rx_gpi2_72_ind', 'rx_gpi2_67_ind', 'rx_gpi2_52_ind', 'rx_gpi2_57_ind', 'rx_gpi2_09_ind', 'rx_gpi2_15_ind', \n",
    "- smoker: use 'smoker_current_ind'\n",
    "- submcc: use 'submcc_ano_cns_ind', 'submcc_trm_spnj_ind', 'submcc_inf_sep_ind', 'submcc_res_copd_ind', 'submcc_brn_othr_ind', 'submcc_trm_brn_ind','submcc_hiv_othr_ind', 'submcc_ner_infl_ind', 'submcc_men_alco_ind', 'submcc_sns_dth_ind', 'submcc_men_othr_ind', 'submcc_cer_seq_ind', 'submcc_men_abus_ind', 'submcc_ner_epil_ind', 'submcc_can_skn_ind', 'submcc_can_othr_ind', 'submcc_trm_prly_ind', 'submcc_rar_lup_ind', 'submcc_ano_gu_ind', 'submcc_trm_skul_ind', 'submcc_res_fail_ind', 'submcc_men_schz_ind', 'submcc_sns_othr_ind', 'submcc_can_h/o_ind', 'submcc_trm_f/n_ind', 'submcc_pre_l/d_ind', 'submcc_pre_care_ind', 'submcc_mus_inf_ind', 'submcc_men_depr_ind', 'submcc_cer_hem_ind', 'submcc_rar_hem_ind', 'submcc_rar_scl_ind', 'submcc_rsk_synx_ind'\n",
    "- total: use 'total_physician_office_visit_ct_pmpm'\n",
    "- zip: use all zip"
   ]
  },
  {
   "cell_type": "code",
   "execution_count": 249,
   "metadata": {},
   "outputs": [],
   "source": [
    "f_betos = ['betos_m2c_ind', 'betos_m5b_ind', 'betos_o1a_ind', 'betos_o1b_ind', 'betos_d1d_ind', 'betos_y2_ind']\n",
    "f_bh = rest_bh\n",
    "f_cci = ['cci_score']\n",
    "f_ccsp = ['ccsp_060_ind', 'ccsp_163_ind', 'ccsp_205_ind', 'ccsp_236_ind', 'ccsp_239_ind']\n",
    "f_cms = rest_cms\n",
    "f_cmsd2 = ['cmsd2_men_mad_ind', 'cmsd2_men_men_substance_ind', 'cmsd2_skn_radiation_ind', 'cmsd2_sns_general_ind']\n",
    "f_cons = cons_col\n",
    "f_credit = ['credit_bal_agencyfirstmtg_new', 'credit_bal_heloc_60dpd', 'credit_bal_mtg_bankruptcy', 'credit_bal_mtgcredit_new', \n",
    "            'credit_bal_nonagn1stmorg_bankruptc', 'credit_bal_nonagn1stmorg_collectio', 'credit_bal_nonmtgcredit_60dpd', \n",
    "            'credit_hh_1stmtgcredit', 'credit_hh_1stmtgcredit_new','credit_hh_agencyfirstmtg_new', 'credit_hh_bankcard_severederog', \n",
    "            'credit_hh_totalallcredit_collections', 'credit_num_1stmtgcredit_new', 'credit_num_agencyfirstmtg_new', \n",
    "            'credit_num_mtg_collections', 'credit_num_nonagn1stmorg_bankruptc']\n",
    "f_dcsi = ['dcsi_score']\n",
    "f_age = ['est_age']\n",
    "f_fci = ['fci_score']\n",
    "f_hcc = ['hcc_weighted_sum']\n",
    "f_hlth = ['hlth_pgm_slvrsnkr_par_status']\n",
    "f_lang = lang_col\n",
    "f_mabh = ['mabh_seg']\n",
    "f_pdc = ['pdc_ast', 'pdc_dep']\n",
    "f_phy = ['phy_em_pe_ind', 'phy_em_pi_ind']\n",
    "f_prov = [ 'prov_spec_ambulance_ind', 'prov_spec_bh_psychiatric_ind', 'prov_spec_chiropractic_ind', 'prov_spec_home_health_ind', \n",
    "          'prov_spec_pain_mgmt_ind']\n",
    "f_rev = ['rev_cms_ambul_ind', 'rev_cms_er_ind', 'rev_cms_icu_ind', 'rev_cms_phar_ind']\n",
    "f_rucc = rucc_col\n",
    "f_rx = ['rx_gpi2_18_ind', 'rx_gpi2_78_ind', 'rx_gpi2_17_ind', 'rx_gpi2_62_ind', 'rx_bh_ind', 'rx_gpi2_93_ind', 'rx_gpi2_51_ind', \n",
    "        'rx_gpi2_43_ind', 'rx_gpi2_25_ind', 'rx_gpi2_59_ind', 'rx_gpi2_65_ind', 'rx_gpi2_75_ind', 'rx_gpi2_61_ind', 'rx_gpi2_58_ind', \n",
    "        'rx_gpi2_72_ind', 'rx_gpi2_67_ind', 'rx_gpi2_52_ind', 'rx_gpi2_57_ind', 'rx_gpi2_09_ind', 'rx_gpi2_15_ind']\n",
    "f_smoker = ['smoker_current_ind']\n",
    "f_submcc = ['submcc_ano_cns_ind', 'submcc_trm_spnj_ind', 'submcc_inf_sep_ind', 'submcc_res_copd_ind', 'submcc_brn_othr_ind', \n",
    "            'submcc_trm_brn_ind','submcc_hiv_othr_ind', 'submcc_ner_infl_ind', 'submcc_men_alco_ind', 'submcc_sns_dth_ind', \n",
    "            'submcc_men_othr_ind', 'submcc_cer_seq_ind', 'submcc_men_abus_ind', 'submcc_ner_epil_ind', 'submcc_can_skn_ind', \n",
    "            'submcc_can_othr_ind', 'submcc_trm_prly_ind', 'submcc_rar_lup_ind', 'submcc_ano_gu_ind', 'submcc_trm_skul_ind', \n",
    "            'submcc_res_fail_ind', 'submcc_men_schz_ind', 'submcc_sns_othr_ind', 'submcc_can_h/o_ind', 'submcc_trm_f/n_ind', \n",
    "            'submcc_pre_l/d_ind', 'submcc_pre_care_ind', 'submcc_mus_inf_ind', 'submcc_men_depr_ind', 'submcc_cer_hem_ind', \n",
    "            'submcc_rar_hem_ind', 'submcc_rar_scl_ind', 'submcc_rsk_synx_ind']\n",
    "f_total = ['total_physician_office_visit_ct_pmpm']\n",
    "f_zip = zip_col"
   ]
  },
  {
   "cell_type": "code",
   "execution_count": 250,
   "metadata": {},
   "outputs": [],
   "source": [
    "keep_cols = []\n",
    "keep_cols = f_betos + f_bh + f_cci + f_ccsp + f_cms + f_cmsd2 + f_cons + f_credit + f_dcsi + f_age + f_fci + f_hcc + f_hlth + f_lang\n",
    "keep_cols = keep_cols + f_mabh + f_pdc + f_phy + f_prov + f_rev + f_rucc + f_rx + f_smoker + f_submcc + f_total + f_zip"
   ]
  },
  {
   "cell_type": "code",
   "execution_count": 251,
   "metadata": {},
   "outputs": [],
   "source": [
    "train_data = train_data[keep_cols].copy()\n",
    "val_data = val_data[keep_cols].copy()\n",
    "encoded_test_data = encoded_test_data[keep_cols].copy()"
   ]
  },
  {
   "cell_type": "code",
   "execution_count": 252,
   "metadata": {},
   "outputs": [
    {
     "data": {
      "text/plain": [
       "(55657, 203)"
      ]
     },
     "execution_count": 252,
     "metadata": {},
     "output_type": "execute_result"
    }
   ],
   "source": [
    "train_data.shape"
   ]
  },
  {
   "cell_type": "code",
   "execution_count": 172,
   "metadata": {},
   "outputs": [],
   "source": [
    "# export dropped file to csv\n",
    "train_data.to_csv('dropped_training.csv', index = False)\n",
    "val_data.to_csv('dropped_val.csv', index = False)\n",
    "encoded_test_data.to_csv('dropped_holdout.csv', index = False)"
   ]
  },
  {
   "cell_type": "code",
   "execution_count": 181,
   "metadata": {},
   "outputs": [],
   "source": [
    "train_y.to_csv('train_y.csv', index = False)\n",
    "val_y.to_csv('val_y.csv', index = False)"
   ]
  },
  {
   "cell_type": "code",
   "execution_count": 173,
   "metadata": {},
   "outputs": [],
   "source": [
    "# dropped_train_data = pd.read_csv('dropped_training.csv.csv', low_memory = False)\n",
    "# dropped_val_data = pd.read_csv('dropped_val.csv', low_memory = False)\n",
    "# dropped_test_data = pd.read_csv('dropped_holdout.csv', low_memory = False)\n",
    "\n",
    "dropped_train_data = train_data.copy()\n",
    "dropped_val_data = val_data.copy()\n",
    "dropped_test_data = encoded_test_data.copy()"
   ]
  },
  {
   "cell_type": "code",
   "execution_count": 176,
   "metadata": {},
   "outputs": [],
   "source": [
    "from sklearn.preprocessing import StandardScaler\n",
    "\n",
    "scaler = StandardScaler()\n",
    "scaled_train = pd.DataFrame(scaler.fit_transform(dropped_train_data), columns = dropped_train_data.columns)\n",
    "scaled_val = pd.DataFrame(scaler.transform(dropped_val_data), columns = dropped_val_data.columns)\n",
    "scaled_test = pd.DataFrame(scaler.transform(dropped_test_data), columns = dropped_test_data.columns)"
   ]
  },
  {
   "cell_type": "code",
   "execution_count": 177,
   "metadata": {},
   "outputs": [
    {
     "data": {
      "text/html": [
       "<div>\n",
       "<style scoped>\n",
       "    .dataframe tbody tr th:only-of-type {\n",
       "        vertical-align: middle;\n",
       "    }\n",
       "\n",
       "    .dataframe tbody tr th {\n",
       "        vertical-align: top;\n",
       "    }\n",
       "\n",
       "    .dataframe thead th {\n",
       "        text-align: right;\n",
       "    }\n",
       "</style>\n",
       "<table border=\"1\" class=\"dataframe\">\n",
       "  <thead>\n",
       "    <tr style=\"text-align: right;\">\n",
       "      <th></th>\n",
       "      <th>betos_m2c_ind</th>\n",
       "      <th>betos_m5b_ind</th>\n",
       "      <th>betos_o1a_ind</th>\n",
       "      <th>betos_o1b_ind</th>\n",
       "      <th>betos_d1d_ind</th>\n",
       "      <th>betos_y2_ind</th>\n",
       "      <th>bh_adtp_ind</th>\n",
       "      <th>bh_aoth_ind</th>\n",
       "      <th>bh_bipr_ind</th>\n",
       "      <th>bh_cdal_ind</th>\n",
       "      <th>...</th>\n",
       "      <th>zip_cd_75</th>\n",
       "      <th>zip_cd_72</th>\n",
       "      <th>zip_cd_88</th>\n",
       "      <th>zip_cd_73</th>\n",
       "      <th>zip_cd_63</th>\n",
       "      <th>zip_cd_44</th>\n",
       "      <th>zip_cd_77</th>\n",
       "      <th>zip_cd_57</th>\n",
       "      <th>zip_cd_31</th>\n",
       "      <th>zip_cd_76</th>\n",
       "    </tr>\n",
       "  </thead>\n",
       "  <tbody>\n",
       "    <tr>\n",
       "      <th>0</th>\n",
       "      <td>-0.186252</td>\n",
       "      <td>-0.255354</td>\n",
       "      <td>2.510981</td>\n",
       "      <td>-0.181764</td>\n",
       "      <td>-0.124684</td>\n",
       "      <td>-0.256430</td>\n",
       "      <td>-0.107171</td>\n",
       "      <td>-0.462658</td>\n",
       "      <td>-0.175987</td>\n",
       "      <td>-0.17265</td>\n",
       "      <td>...</td>\n",
       "      <td>-0.041350</td>\n",
       "      <td>-0.031451</td>\n",
       "      <td>-0.023607</td>\n",
       "      <td>-0.027806</td>\n",
       "      <td>-0.023607</td>\n",
       "      <td>-0.032576</td>\n",
       "      <td>-0.023985</td>\n",
       "      <td>-0.015862</td>\n",
       "      <td>-0.028446</td>\n",
       "      <td>-0.015285</td>\n",
       "    </tr>\n",
       "    <tr>\n",
       "      <th>1</th>\n",
       "      <td>5.369069</td>\n",
       "      <td>-0.255354</td>\n",
       "      <td>2.510981</td>\n",
       "      <td>-0.181764</td>\n",
       "      <td>-0.124684</td>\n",
       "      <td>3.899696</td>\n",
       "      <td>-0.107171</td>\n",
       "      <td>2.161426</td>\n",
       "      <td>-0.175987</td>\n",
       "      <td>-0.17265</td>\n",
       "      <td>...</td>\n",
       "      <td>-0.041350</td>\n",
       "      <td>-0.031451</td>\n",
       "      <td>-0.023607</td>\n",
       "      <td>-0.027806</td>\n",
       "      <td>-0.023607</td>\n",
       "      <td>-0.032576</td>\n",
       "      <td>-0.023985</td>\n",
       "      <td>-0.015862</td>\n",
       "      <td>-0.028446</td>\n",
       "      <td>-0.015285</td>\n",
       "    </tr>\n",
       "    <tr>\n",
       "      <th>2</th>\n",
       "      <td>-0.186252</td>\n",
       "      <td>-0.255354</td>\n",
       "      <td>-0.398251</td>\n",
       "      <td>-0.181764</td>\n",
       "      <td>-0.124684</td>\n",
       "      <td>-0.256430</td>\n",
       "      <td>-0.107171</td>\n",
       "      <td>-0.462658</td>\n",
       "      <td>-0.175987</td>\n",
       "      <td>-0.17265</td>\n",
       "      <td>...</td>\n",
       "      <td>24.183944</td>\n",
       "      <td>-0.031451</td>\n",
       "      <td>-0.023607</td>\n",
       "      <td>-0.027806</td>\n",
       "      <td>-0.023607</td>\n",
       "      <td>-0.032576</td>\n",
       "      <td>-0.023985</td>\n",
       "      <td>-0.015862</td>\n",
       "      <td>-0.028446</td>\n",
       "      <td>-0.015285</td>\n",
       "    </tr>\n",
       "    <tr>\n",
       "      <th>3</th>\n",
       "      <td>-0.186252</td>\n",
       "      <td>-0.255354</td>\n",
       "      <td>-0.398251</td>\n",
       "      <td>-0.181764</td>\n",
       "      <td>-0.124684</td>\n",
       "      <td>3.899696</td>\n",
       "      <td>-0.107171</td>\n",
       "      <td>-0.462658</td>\n",
       "      <td>-0.175987</td>\n",
       "      <td>-0.17265</td>\n",
       "      <td>...</td>\n",
       "      <td>-0.041350</td>\n",
       "      <td>-0.031451</td>\n",
       "      <td>-0.023607</td>\n",
       "      <td>-0.027806</td>\n",
       "      <td>-0.023607</td>\n",
       "      <td>-0.032576</td>\n",
       "      <td>-0.023985</td>\n",
       "      <td>-0.015862</td>\n",
       "      <td>-0.028446</td>\n",
       "      <td>-0.015285</td>\n",
       "    </tr>\n",
       "    <tr>\n",
       "      <th>4</th>\n",
       "      <td>-0.186252</td>\n",
       "      <td>-0.255354</td>\n",
       "      <td>-0.398251</td>\n",
       "      <td>-0.181764</td>\n",
       "      <td>-0.124684</td>\n",
       "      <td>-0.256430</td>\n",
       "      <td>-0.107171</td>\n",
       "      <td>-0.462658</td>\n",
       "      <td>-0.175987</td>\n",
       "      <td>-0.17265</td>\n",
       "      <td>...</td>\n",
       "      <td>-0.041350</td>\n",
       "      <td>-0.031451</td>\n",
       "      <td>-0.023607</td>\n",
       "      <td>-0.027806</td>\n",
       "      <td>-0.023607</td>\n",
       "      <td>-0.032576</td>\n",
       "      <td>-0.023985</td>\n",
       "      <td>-0.015862</td>\n",
       "      <td>-0.028446</td>\n",
       "      <td>-0.015285</td>\n",
       "    </tr>\n",
       "  </tbody>\n",
       "</table>\n",
       "<p>5 rows × 203 columns</p>\n",
       "</div>"
      ],
      "text/plain": [
       "   betos_m2c_ind  betos_m5b_ind  betos_o1a_ind  betos_o1b_ind  betos_d1d_ind  \\\n",
       "0      -0.186252      -0.255354       2.510981      -0.181764      -0.124684   \n",
       "1       5.369069      -0.255354       2.510981      -0.181764      -0.124684   \n",
       "2      -0.186252      -0.255354      -0.398251      -0.181764      -0.124684   \n",
       "3      -0.186252      -0.255354      -0.398251      -0.181764      -0.124684   \n",
       "4      -0.186252      -0.255354      -0.398251      -0.181764      -0.124684   \n",
       "\n",
       "   betos_y2_ind  bh_adtp_ind  bh_aoth_ind  bh_bipr_ind  bh_cdal_ind  ...  \\\n",
       "0     -0.256430    -0.107171    -0.462658    -0.175987     -0.17265  ...   \n",
       "1      3.899696    -0.107171     2.161426    -0.175987     -0.17265  ...   \n",
       "2     -0.256430    -0.107171    -0.462658    -0.175987     -0.17265  ...   \n",
       "3      3.899696    -0.107171    -0.462658    -0.175987     -0.17265  ...   \n",
       "4     -0.256430    -0.107171    -0.462658    -0.175987     -0.17265  ...   \n",
       "\n",
       "   zip_cd_75  zip_cd_72  zip_cd_88  zip_cd_73  zip_cd_63  zip_cd_44  \\\n",
       "0  -0.041350  -0.031451  -0.023607  -0.027806  -0.023607  -0.032576   \n",
       "1  -0.041350  -0.031451  -0.023607  -0.027806  -0.023607  -0.032576   \n",
       "2  24.183944  -0.031451  -0.023607  -0.027806  -0.023607  -0.032576   \n",
       "3  -0.041350  -0.031451  -0.023607  -0.027806  -0.023607  -0.032576   \n",
       "4  -0.041350  -0.031451  -0.023607  -0.027806  -0.023607  -0.032576   \n",
       "\n",
       "   zip_cd_77  zip_cd_57  zip_cd_31  zip_cd_76  \n",
       "0  -0.023985  -0.015862  -0.028446  -0.015285  \n",
       "1  -0.023985  -0.015862  -0.028446  -0.015285  \n",
       "2  -0.023985  -0.015862  -0.028446  -0.015285  \n",
       "3  -0.023985  -0.015862  -0.028446  -0.015285  \n",
       "4  -0.023985  -0.015862  -0.028446  -0.015285  \n",
       "\n",
       "[5 rows x 203 columns]"
      ]
     },
     "execution_count": 177,
     "metadata": {},
     "output_type": "execute_result"
    }
   ],
   "source": [
    "scaled_train.head()"
   ]
  },
  {
   "cell_type": "code",
   "execution_count": 178,
   "metadata": {},
   "outputs": [
    {
     "data": {
      "text/plain": [
       "array([0.74255329, 0.73886044, 0.7400352 , 0.73777176, 0.72509216,\n",
       "       0.72975281, 0.75137096, 0.74500788, 0.72978225, 0.73414587])"
      ]
     },
     "execution_count": 178,
     "metadata": {},
     "output_type": "execute_result"
    }
   ],
   "source": [
    "from sklearn.linear_model import LogisticRegression\n",
    "\n",
    "lr_model = LogisticRegression(penalty='l1', solver= 'liblinear', random_state= 44, max_iter= 150)\n",
    "lr_model.fit(scaled_train, train_y)\n",
    "\n",
    "\n",
    "from sklearn.model_selection import cross_validate\n",
    "\n",
    "cv_results_lr = cross_validate(lr_model, X = scaled_train, y = train_y, scoring = 'roc_auc', cv = 10)\n",
    "cv_results_lr['test_score']"
   ]
  },
  {
   "cell_type": "code",
   "execution_count": 253,
   "metadata": {},
   "outputs": [
    {
     "data": {
      "text/plain": [
       "0.7374372630590298"
      ]
     },
     "execution_count": 253,
     "metadata": {},
     "output_type": "execute_result"
    }
   ],
   "source": [
    "cv_results_lr['test_score'].mean()"
   ]
  },
  {
   "cell_type": "code",
   "execution_count": 112,
   "metadata": {},
   "outputs": [
    {
     "data": {
      "text/plain": [
       "array([0.72463351, 0.72852276, 0.73086172, 0.72693704, 0.72241093,\n",
       "       0.71990805, 0.72379987, 0.73777093, 0.7145182 , 0.71292828])"
      ]
     },
     "execution_count": 112,
     "metadata": {},
     "output_type": "execute_result"
    }
   ],
   "source": [
    "from sklearn.ensemble import RandomForestClassifier\n",
    "\n",
    "rf_model = RandomForestClassifier(random_state = 44)\n",
    "\n",
    "cv_results_rf = cross_validate(rf_model, X = scaled_train, y = train_y, scoring = 'roc_auc', cv = 10)\n",
    "cv_results_rf['test_score']"
   ]
  },
  {
   "cell_type": "code",
   "execution_count": 179,
   "metadata": {},
   "outputs": [
    {
     "data": {
      "text/plain": [
       "array([0.73438488, 0.73638333, 0.73039071, 0.72737442, 0.72454795,\n",
       "       0.72390374, 0.74298371, 0.73759279, 0.72674238, 0.72905193])"
      ]
     },
     "execution_count": 179,
     "metadata": {},
     "output_type": "execute_result"
    }
   ],
   "source": [
    "from xgboost import XGBClassifier\n",
    "\n",
    "xgb_model = XGBClassifier(n_estimators = 1000, random_state = 44)\n",
    "\n",
    "cv_results_xgb = cross_validate(xgb_model, X = scaled_train, y = train_y, scoring = 'roc_auc', cv = 10)\n",
    "cv_results_xgb['test_score']"
   ]
  },
  {
   "cell_type": "code",
   "execution_count": 183,
   "metadata": {},
   "outputs": [
    {
     "data": {
      "text/plain": [
       "0.7242291283972989"
      ]
     },
     "execution_count": 183,
     "metadata": {},
     "output_type": "execute_result"
    }
   ],
   "source": [
    "cv_results_rf['test_score'].mean()"
   ]
  },
  {
   "cell_type": "code",
   "execution_count": 185,
   "metadata": {},
   "outputs": [
    {
     "name": "stdout",
     "output_type": "stream",
     "text": [
      "50  -  0.7338490179791616\n",
      "60  -  0.7354861993808879\n",
      "70  -  0.7379715204394868\n",
      "80  -  0.7378735763519708\n",
      "90  -  0.7376050981355246\n",
      "100  -  0.7377763437675945\n",
      "110  -  0.7387443116568815\n",
      "120  -  0.7389109079703755\n",
      "130  -  0.7391143641122839\n",
      "140  -  0.7389146748659883\n",
      "150  -  0.7387529433620007\n"
     ]
    }
   ],
   "source": [
    "from sklearn.feature_selection import SelectKBest, f_classif\n",
    "\n",
    "total_feature_num = [50, 60, 70, 80, 90, 100, 110, 120, 130, 140, 150]\n",
    "\n",
    "for num in total_feature_num:\n",
    "    selector = SelectKBest(f_classif, k = num)\n",
    "    temp_X = selector.fit_transform(scaled_train, train_y)\n",
    "    new_col = scaled_train.columns[selector.get_support()]\n",
    "    \n",
    "    new_train = scaled_train[new_col]\n",
    "    temp_lr_model = LogisticRegression(random_state = num, max_iter = 150)\n",
    "    temp_cv_results = cross_validate(temp_lr_model, X = new_train, y = train_y, scoring = 'roc_auc', cv = 10)\n",
    "\n",
    "    print(num, ' - ', temp_cv_results['test_score'].mean())"
   ]
  },
  {
   "cell_type": "code",
   "execution_count": 213,
   "metadata": {},
   "outputs": [],
   "source": [
    "# so total feature num = 130\n",
    "selector = SelectKBest(f_classif, k = 130)\n",
    "temp_X = selector.fit_transform(scaled_train, train_y)\n",
    "new_col = scaled_train.columns[selector.get_support()]\n",
    "\n",
    "new_train = scaled_train[new_col]\n",
    "new_val = scaled_val[new_col]\n",
    "new_test = scaled_test[new_col]"
   ]
  },
  {
   "cell_type": "code",
   "execution_count": 188,
   "metadata": {},
   "outputs": [
    {
     "data": {
      "text/plain": [
       "0.7204055809807228"
      ]
     },
     "execution_count": 188,
     "metadata": {},
     "output_type": "execute_result"
    }
   ],
   "source": [
    "rf_model_2 = RandomForestClassifier(random_state = 30)\n",
    "\n",
    "cv_results_rf_2 = cross_validate(rf_model_2, X = new_train, y = train_y, scoring = 'roc_auc', cv = 10)\n",
    "cv_results_rf_2['test_score'].mean()"
   ]
  },
  {
   "cell_type": "code",
   "execution_count": 214,
   "metadata": {},
   "outputs": [
    {
     "data": {
      "text/plain": [
       "0.7356437554121261"
      ]
     },
     "execution_count": 214,
     "metadata": {},
     "output_type": "execute_result"
    }
   ],
   "source": [
    "final_model = LogisticRegression(penalty='l1', solver= 'liblinear', random_state = 130, max_iter = 150)\n",
    "final_model.fit(new_train, train_y)\n",
    "\n",
    "from sklearn.metrics import roc_auc_score\n",
    "roc_auc_score(val_y, final_model.decision_function(new_val))"
   ]
  },
  {
   "cell_type": "code",
   "execution_count": 215,
   "metadata": {},
   "outputs": [],
   "source": [
    "test_score = final_model.predict_proba(new_test)[:][:,1]"
   ]
  },
  {
   "cell_type": "code",
   "execution_count": 216,
   "metadata": {},
   "outputs": [],
   "source": [
    "test_score_df = pd.DataFrame(test_score, columns= ['SCORE'])"
   ]
  },
  {
   "cell_type": "code",
   "execution_count": 217,
   "metadata": {},
   "outputs": [],
   "source": [
    "test_score_df.to_csv('test_score2.csv', index = False)"
   ]
  },
  {
   "cell_type": "code",
   "execution_count": 219,
   "metadata": {},
   "outputs": [
    {
     "data": {
      "text/plain": [
       "array([[0.39325698, 0.60674302],\n",
       "       [0.91077363, 0.08922637],\n",
       "       [0.81073995, 0.18926005],\n",
       "       ...,\n",
       "       [0.84972846, 0.15027154],\n",
       "       [0.95226246, 0.04773754],\n",
       "       [0.69341381, 0.30658619]])"
      ]
     },
     "execution_count": 219,
     "metadata": {},
     "output_type": "execute_result"
    }
   ],
   "source": [
    "final_model.predict_proba(new_test)[:]"
   ]
  },
  {
   "cell_type": "code",
   "execution_count": 218,
   "metadata": {},
   "outputs": [
    {
     "data": {
      "text/plain": [
       "array([0.60674302, 0.08922637, 0.18926005, ..., 0.15027154, 0.04773754,\n",
       "       0.30658619])"
      ]
     },
     "execution_count": 218,
     "metadata": {},
     "output_type": "execute_result"
    }
   ],
   "source": [
    "test_score"
   ]
  },
  {
   "cell_type": "code",
   "execution_count": 211,
   "metadata": {},
   "outputs": [
    {
     "name": "stdout",
     "output_type": "stream",
     "text": [
      "50  -  0.7338669563453319\n",
      "60  -  0.7355287795355574\n",
      "70  -  0.7380134803527159\n",
      "80  -  0.7379087055152662\n",
      "90  -  0.7376503837652224\n",
      "100  -  0.7378203962821019\n",
      "110  -  0.7387956768907917\n",
      "120  -  0.738964724263116\n",
      "130  -  0.7391612468577107\n",
      "140  -  0.7389712495349658\n",
      "150  -  0.7388174035667945\n"
     ]
    }
   ],
   "source": [
    "from sklearn.feature_selection import SelectKBest, f_classif\n",
    "\n",
    "total_feature_num = [50, 60, 70, 80, 90, 100, 110, 120, 130, 140, 150]\n",
    "\n",
    "for num in total_feature_num:\n",
    "    selector = SelectKBest(f_classif, k = num)\n",
    "    temp_X = selector.fit_transform(scaled_train, train_y)\n",
    "    new_col = scaled_train.columns[selector.get_support()]\n",
    "    \n",
    "    new_train = scaled_train[new_col]\n",
    "    temp_lr_model = LogisticRegression(penalty='l1', solver= 'liblinear', random_state = num, max_iter = 150)\n",
    "    temp_cv_results = cross_validate(temp_lr_model, X = new_train, y = train_y, scoring = 'roc_auc', cv = 10)\n",
    "\n",
    "    print(num, ' - ', temp_cv_results['test_score'].mean())"
   ]
  },
  {
   "cell_type": "code",
   "execution_count": null,
   "metadata": {},
   "outputs": [],
   "source": []
  }
 ],
 "metadata": {
  "kernelspec": {
   "display_name": "Python 3",
   "language": "python",
   "name": "python3"
  },
  "language_info": {
   "codemirror_mode": {
    "name": "ipython",
    "version": 3
   },
   "file_extension": ".py",
   "mimetype": "text/x-python",
   "name": "python",
   "nbconvert_exporter": "python",
   "pygments_lexer": "ipython3",
   "version": "3.7.6"
  }
 },
 "nbformat": 4,
 "nbformat_minor": 4
}
